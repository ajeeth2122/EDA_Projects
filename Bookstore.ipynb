{
 "cells": [
  {
   "cell_type": "code",
   "execution_count": 2,
   "id": "71d906d1",
   "metadata": {},
   "outputs": [],
   "source": [
    "import pandas as pd \n",
    "import numpy as np\n",
    "import matplotlib.pyplot as plt"
   ]
  },
  {
   "cell_type": "code",
   "execution_count": 3,
   "id": "a8104e2e",
   "metadata": {},
   "outputs": [],
   "source": [
    "df = pd.read_csv(r\"D:\\DATA AK FILES\\Bookstore\\books_scraped.csv\")"
   ]
  },
  {
   "cell_type": "code",
   "execution_count": 4,
   "id": "79bc2e38",
   "metadata": {},
   "outputs": [
    {
     "data": {
      "text/html": [
       "<div>\n",
       "<style scoped>\n",
       "    .dataframe tbody tr th:only-of-type {\n",
       "        vertical-align: middle;\n",
       "    }\n",
       "\n",
       "    .dataframe tbody tr th {\n",
       "        vertical-align: top;\n",
       "    }\n",
       "\n",
       "    .dataframe thead th {\n",
       "        text-align: right;\n",
       "    }\n",
       "</style>\n",
       "<table border=\"1\" class=\"dataframe\">\n",
       "  <thead>\n",
       "    <tr style=\"text-align: right;\">\n",
       "      <th></th>\n",
       "      <th>Title</th>\n",
       "      <th>Book_category</th>\n",
       "      <th>Star_rating</th>\n",
       "      <th>Price</th>\n",
       "      <th>Stock</th>\n",
       "      <th>Quantity</th>\n",
       "    </tr>\n",
       "  </thead>\n",
       "  <tbody>\n",
       "    <tr>\n",
       "      <th>0</th>\n",
       "      <td>A Light in the Attic</td>\n",
       "      <td>Poetry</td>\n",
       "      <td>Three</td>\n",
       "      <td>51.77</td>\n",
       "      <td>In stock</td>\n",
       "      <td>22</td>\n",
       "    </tr>\n",
       "    <tr>\n",
       "      <th>1</th>\n",
       "      <td>Tipping the Velvet</td>\n",
       "      <td>Historical Fiction</td>\n",
       "      <td>One</td>\n",
       "      <td>53.74</td>\n",
       "      <td>In stock</td>\n",
       "      <td>20</td>\n",
       "    </tr>\n",
       "    <tr>\n",
       "      <th>2</th>\n",
       "      <td>Soumission</td>\n",
       "      <td>Fiction</td>\n",
       "      <td>One</td>\n",
       "      <td>50.10</td>\n",
       "      <td>In stock</td>\n",
       "      <td>20</td>\n",
       "    </tr>\n",
       "    <tr>\n",
       "      <th>3</th>\n",
       "      <td>Sharp Objects</td>\n",
       "      <td>Mystery</td>\n",
       "      <td>Four</td>\n",
       "      <td>47.82</td>\n",
       "      <td>In stock</td>\n",
       "      <td>20</td>\n",
       "    </tr>\n",
       "    <tr>\n",
       "      <th>4</th>\n",
       "      <td>Sapiens: A Brief History of Humankind</td>\n",
       "      <td>History</td>\n",
       "      <td>Five</td>\n",
       "      <td>54.23</td>\n",
       "      <td>In stock</td>\n",
       "      <td>20</td>\n",
       "    </tr>\n",
       "    <tr>\n",
       "      <th>5</th>\n",
       "      <td>The Requiem Red</td>\n",
       "      <td>Young Adult</td>\n",
       "      <td>One</td>\n",
       "      <td>22.65</td>\n",
       "      <td>In stock</td>\n",
       "      <td>19</td>\n",
       "    </tr>\n",
       "    <tr>\n",
       "      <th>6</th>\n",
       "      <td>The Dirty Little Secrets of Getting Your Dream...</td>\n",
       "      <td>Business</td>\n",
       "      <td>Four</td>\n",
       "      <td>33.34</td>\n",
       "      <td>In stock</td>\n",
       "      <td>19</td>\n",
       "    </tr>\n",
       "    <tr>\n",
       "      <th>7</th>\n",
       "      <td>The Coming Woman: A Novel Based on the Life of...</td>\n",
       "      <td>Default</td>\n",
       "      <td>Three</td>\n",
       "      <td>17.93</td>\n",
       "      <td>In stock</td>\n",
       "      <td>19</td>\n",
       "    </tr>\n",
       "    <tr>\n",
       "      <th>8</th>\n",
       "      <td>The Boys in the Boat: Nine Americans and Their...</td>\n",
       "      <td>Default</td>\n",
       "      <td>Four</td>\n",
       "      <td>22.60</td>\n",
       "      <td>In stock</td>\n",
       "      <td>19</td>\n",
       "    </tr>\n",
       "    <tr>\n",
       "      <th>9</th>\n",
       "      <td>The Black Maria</td>\n",
       "      <td>Poetry</td>\n",
       "      <td>One</td>\n",
       "      <td>52.15</td>\n",
       "      <td>In stock</td>\n",
       "      <td>19</td>\n",
       "    </tr>\n",
       "  </tbody>\n",
       "</table>\n",
       "</div>"
      ],
      "text/plain": [
       "                                               Title       Book_category  \\\n",
       "0                               A Light in the Attic              Poetry   \n",
       "1                                 Tipping the Velvet  Historical Fiction   \n",
       "2                                         Soumission             Fiction   \n",
       "3                                      Sharp Objects             Mystery   \n",
       "4              Sapiens: A Brief History of Humankind             History   \n",
       "5                                    The Requiem Red         Young Adult   \n",
       "6  The Dirty Little Secrets of Getting Your Dream...            Business   \n",
       "7  The Coming Woman: A Novel Based on the Life of...             Default   \n",
       "8  The Boys in the Boat: Nine Americans and Their...             Default   \n",
       "9                                    The Black Maria              Poetry   \n",
       "\n",
       "  Star_rating  Price     Stock  Quantity  \n",
       "0       Three  51.77  In stock        22  \n",
       "1         One  53.74  In stock        20  \n",
       "2         One  50.10  In stock        20  \n",
       "3        Four  47.82  In stock        20  \n",
       "4        Five  54.23  In stock        20  \n",
       "5         One  22.65  In stock        19  \n",
       "6        Four  33.34  In stock        19  \n",
       "7       Three  17.93  In stock        19  \n",
       "8        Four  22.60  In stock        19  \n",
       "9         One  52.15  In stock        19  "
      ]
     },
     "execution_count": 4,
     "metadata": {},
     "output_type": "execute_result"
    }
   ],
   "source": [
    "df.head(10)"
   ]
  },
  {
   "cell_type": "code",
   "execution_count": 5,
   "id": "82c9fc5a",
   "metadata": {},
   "outputs": [
    {
     "name": "stdout",
     "output_type": "stream",
     "text": [
      "<class 'pandas.core.frame.DataFrame'>\n",
      "RangeIndex: 1000 entries, 0 to 999\n",
      "Data columns (total 6 columns):\n",
      " #   Column         Non-Null Count  Dtype  \n",
      "---  ------         --------------  -----  \n",
      " 0   Title          1000 non-null   object \n",
      " 1   Book_category  1000 non-null   object \n",
      " 2   Star_rating    1000 non-null   object \n",
      " 3   Price          1000 non-null   float64\n",
      " 4   Stock          1000 non-null   object \n",
      " 5   Quantity       1000 non-null   int64  \n",
      "dtypes: float64(1), int64(1), object(4)\n",
      "memory usage: 47.0+ KB\n"
     ]
    }
   ],
   "source": [
    "df.info()"
   ]
  },
  {
   "cell_type": "code",
   "execution_count": 6,
   "id": "6e3591f8",
   "metadata": {},
   "outputs": [
    {
     "data": {
      "text/html": [
       "<div>\n",
       "<style scoped>\n",
       "    .dataframe tbody tr th:only-of-type {\n",
       "        vertical-align: middle;\n",
       "    }\n",
       "\n",
       "    .dataframe tbody tr th {\n",
       "        vertical-align: top;\n",
       "    }\n",
       "\n",
       "    .dataframe thead th {\n",
       "        text-align: right;\n",
       "    }\n",
       "</style>\n",
       "<table border=\"1\" class=\"dataframe\">\n",
       "  <thead>\n",
       "    <tr style=\"text-align: right;\">\n",
       "      <th></th>\n",
       "      <th>Price</th>\n",
       "      <th>Quantity</th>\n",
       "    </tr>\n",
       "  </thead>\n",
       "  <tbody>\n",
       "    <tr>\n",
       "      <th>count</th>\n",
       "      <td>1000.00000</td>\n",
       "      <td>1000.000000</td>\n",
       "    </tr>\n",
       "    <tr>\n",
       "      <th>mean</th>\n",
       "      <td>35.07035</td>\n",
       "      <td>8.585000</td>\n",
       "    </tr>\n",
       "    <tr>\n",
       "      <th>std</th>\n",
       "      <td>14.44669</td>\n",
       "      <td>5.654622</td>\n",
       "    </tr>\n",
       "    <tr>\n",
       "      <th>min</th>\n",
       "      <td>10.00000</td>\n",
       "      <td>1.000000</td>\n",
       "    </tr>\n",
       "    <tr>\n",
       "      <th>25%</th>\n",
       "      <td>22.10750</td>\n",
       "      <td>3.000000</td>\n",
       "    </tr>\n",
       "    <tr>\n",
       "      <th>50%</th>\n",
       "      <td>35.98000</td>\n",
       "      <td>7.000000</td>\n",
       "    </tr>\n",
       "    <tr>\n",
       "      <th>75%</th>\n",
       "      <td>47.45750</td>\n",
       "      <td>14.000000</td>\n",
       "    </tr>\n",
       "    <tr>\n",
       "      <th>max</th>\n",
       "      <td>59.99000</td>\n",
       "      <td>22.000000</td>\n",
       "    </tr>\n",
       "  </tbody>\n",
       "</table>\n",
       "</div>"
      ],
      "text/plain": [
       "            Price     Quantity\n",
       "count  1000.00000  1000.000000\n",
       "mean     35.07035     8.585000\n",
       "std      14.44669     5.654622\n",
       "min      10.00000     1.000000\n",
       "25%      22.10750     3.000000\n",
       "50%      35.98000     7.000000\n",
       "75%      47.45750    14.000000\n",
       "max      59.99000    22.000000"
      ]
     },
     "execution_count": 6,
     "metadata": {},
     "output_type": "execute_result"
    }
   ],
   "source": [
    "df.describe()"
   ]
  },
  {
   "cell_type": "code",
   "execution_count": 7,
   "id": "95fbd358",
   "metadata": {},
   "outputs": [
    {
     "data": {
      "text/plain": [
       "Title            0\n",
       "Book_category    0\n",
       "Star_rating      0\n",
       "Price            0\n",
       "Stock            0\n",
       "Quantity         0\n",
       "dtype: int64"
      ]
     },
     "execution_count": 7,
     "metadata": {},
     "output_type": "execute_result"
    }
   ],
   "source": [
    "df.isna().sum()"
   ]
  },
  {
   "cell_type": "code",
   "execution_count": 8,
   "id": "5244fa84",
   "metadata": {},
   "outputs": [
    {
     "data": {
      "text/plain": [
       "array(['Poetry', 'Historical Fiction', 'Fiction', 'Mystery', 'History',\n",
       "       'Young Adult', 'Business', 'Default', 'Sequential Art', 'Music',\n",
       "       'Science Fiction', 'Politics', 'Travel', 'Thriller',\n",
       "       'Food and Drink', 'Romance', 'Childrens', 'Nonfiction', 'Art',\n",
       "       'Spirituality', 'Philosophy', 'New Adult', 'Contemporary',\n",
       "       'Fantasy', 'Add a comment', 'Science', 'Health', 'Horror',\n",
       "       'Self Help', 'Religion', 'Christian', 'Crime', 'Autobiography',\n",
       "       'Christian Fiction', 'Biography', 'Womens Fiction', 'Erotica',\n",
       "       'Cultural', 'Psychology', 'Humor', 'Historical', 'Novels',\n",
       "       'Short Stories', 'Suspense', 'Classics', 'Academic',\n",
       "       'Sports and Games', 'Adult Fiction', 'Parenting', 'Paranormal'],\n",
       "      dtype=object)"
      ]
     },
     "execution_count": 8,
     "metadata": {},
     "output_type": "execute_result"
    }
   ],
   "source": [
    "df[\"Book_category\"].unique()"
   ]
  },
  {
   "cell_type": "code",
   "execution_count": 9,
   "id": "c9aa3fa8",
   "metadata": {},
   "outputs": [
    {
     "data": {
      "text/plain": [
       "Default               152\n",
       "Nonfiction            110\n",
       "Sequential Art         75\n",
       "Add a comment          67\n",
       "Fiction                65\n",
       "Young Adult            54\n",
       "Fantasy                48\n",
       "Romance                35\n",
       "Mystery                32\n",
       "Food and Drink         30\n",
       "Childrens              29\n",
       "Historical Fiction     26\n",
       "Classics               19\n",
       "Poetry                 19\n",
       "History                18\n",
       "Womens Fiction         17\n",
       "Horror                 17\n",
       "Science Fiction        16\n",
       "Science                14\n",
       "Music                  13\n",
       "Business               12\n",
       "Thriller               11\n",
       "Travel                 11\n",
       "Philosophy             11\n",
       "Humor                  10\n",
       "Autobiography           9\n",
       "Art                     8\n",
       "Psychology              7\n",
       "Religion                7\n",
       "New Adult               6\n",
       "Christian Fiction       6\n",
       "Spirituality            6\n",
       "Self Help               5\n",
       "Sports and Games        5\n",
       "Biography               5\n",
       "Health                  4\n",
       "Politics                3\n",
       "Contemporary            3\n",
       "Christian               3\n",
       "Historical              2\n",
       "Adult Fiction           1\n",
       "Short Stories           1\n",
       "Crime                   1\n",
       "Cultural                1\n",
       "Erotica                 1\n",
       "Paranormal              1\n",
       "Novels                  1\n",
       "Suspense                1\n",
       "Academic                1\n",
       "Parenting               1\n",
       "Name: Book_category, dtype: int64"
      ]
     },
     "execution_count": 9,
     "metadata": {},
     "output_type": "execute_result"
    }
   ],
   "source": [
    "df[\"Book_category\"].value_counts()"
   ]
  },
  {
   "cell_type": "code",
   "execution_count": null,
   "id": "ccf61ff3",
   "metadata": {},
   "outputs": [],
   "source": []
  },
  {
   "cell_type": "code",
   "execution_count": 10,
   "id": "7af0c3f7",
   "metadata": {},
   "outputs": [
    {
     "data": {
      "text/plain": [
       "array(['Three', 'One', 'Four', 'Five', 'Two'], dtype=object)"
      ]
     },
     "execution_count": 10,
     "metadata": {},
     "output_type": "execute_result"
    }
   ],
   "source": [
    "df[\"Star_rating\"].unique()"
   ]
  },
  {
   "cell_type": "code",
   "execution_count": 11,
   "id": "3dac0df1",
   "metadata": {},
   "outputs": [],
   "source": [
    "df['Star_rating'] = df['Star_rating'].map({'Three':3,'One':1,'Two':2,'Four':4,'Five':5})"
   ]
  },
  {
   "cell_type": "code",
   "execution_count": 12,
   "id": "38d2d9a1",
   "metadata": {},
   "outputs": [
    {
     "data": {
      "text/html": [
       "<div>\n",
       "<style scoped>\n",
       "    .dataframe tbody tr th:only-of-type {\n",
       "        vertical-align: middle;\n",
       "    }\n",
       "\n",
       "    .dataframe tbody tr th {\n",
       "        vertical-align: top;\n",
       "    }\n",
       "\n",
       "    .dataframe thead th {\n",
       "        text-align: right;\n",
       "    }\n",
       "</style>\n",
       "<table border=\"1\" class=\"dataframe\">\n",
       "  <thead>\n",
       "    <tr style=\"text-align: right;\">\n",
       "      <th></th>\n",
       "      <th>Title</th>\n",
       "      <th>Book_category</th>\n",
       "      <th>Star_rating</th>\n",
       "      <th>Price</th>\n",
       "      <th>Stock</th>\n",
       "      <th>Quantity</th>\n",
       "    </tr>\n",
       "  </thead>\n",
       "  <tbody>\n",
       "    <tr>\n",
       "      <th>0</th>\n",
       "      <td>A Light in the Attic</td>\n",
       "      <td>Poetry</td>\n",
       "      <td>3</td>\n",
       "      <td>51.77</td>\n",
       "      <td>In stock</td>\n",
       "      <td>22</td>\n",
       "    </tr>\n",
       "    <tr>\n",
       "      <th>1</th>\n",
       "      <td>Tipping the Velvet</td>\n",
       "      <td>Historical Fiction</td>\n",
       "      <td>1</td>\n",
       "      <td>53.74</td>\n",
       "      <td>In stock</td>\n",
       "      <td>20</td>\n",
       "    </tr>\n",
       "    <tr>\n",
       "      <th>2</th>\n",
       "      <td>Soumission</td>\n",
       "      <td>Fiction</td>\n",
       "      <td>1</td>\n",
       "      <td>50.10</td>\n",
       "      <td>In stock</td>\n",
       "      <td>20</td>\n",
       "    </tr>\n",
       "    <tr>\n",
       "      <th>3</th>\n",
       "      <td>Sharp Objects</td>\n",
       "      <td>Mystery</td>\n",
       "      <td>4</td>\n",
       "      <td>47.82</td>\n",
       "      <td>In stock</td>\n",
       "      <td>20</td>\n",
       "    </tr>\n",
       "    <tr>\n",
       "      <th>4</th>\n",
       "      <td>Sapiens: A Brief History of Humankind</td>\n",
       "      <td>History</td>\n",
       "      <td>5</td>\n",
       "      <td>54.23</td>\n",
       "      <td>In stock</td>\n",
       "      <td>20</td>\n",
       "    </tr>\n",
       "  </tbody>\n",
       "</table>\n",
       "</div>"
      ],
      "text/plain": [
       "                                   Title       Book_category  Star_rating  \\\n",
       "0                   A Light in the Attic              Poetry            3   \n",
       "1                     Tipping the Velvet  Historical Fiction            1   \n",
       "2                             Soumission             Fiction            1   \n",
       "3                          Sharp Objects             Mystery            4   \n",
       "4  Sapiens: A Brief History of Humankind             History            5   \n",
       "\n",
       "   Price     Stock  Quantity  \n",
       "0  51.77  In stock        22  \n",
       "1  53.74  In stock        20  \n",
       "2  50.10  In stock        20  \n",
       "3  47.82  In stock        20  \n",
       "4  54.23  In stock        20  "
      ]
     },
     "execution_count": 12,
     "metadata": {},
     "output_type": "execute_result"
    }
   ],
   "source": [
    "df.head()"
   ]
  },
  {
   "cell_type": "code",
   "execution_count": 13,
   "id": "e2e3801b",
   "metadata": {},
   "outputs": [],
   "source": [
    "df.sort_values(\"Star_rating\",ascending = False, inplace = True )"
   ]
  },
  {
   "cell_type": "code",
   "execution_count": 14,
   "id": "adeb00de",
   "metadata": {},
   "outputs": [
    {
     "data": {
      "text/plain": [
       "<AxesSubplot:title={'center':'Rating chart'}>"
      ]
     },
     "execution_count": 14,
     "metadata": {},
     "output_type": "execute_result"
    },
    {
     "data": {
      "image/png": "[encoded data removed]",
      "text/plain": [
       "<Figure size 864x432 with 1 Axes>"
      ]
     },
     "metadata": {
      "needs_background": "light"
     },
     "output_type": "display_data"
    }
   ],
   "source": [
    "df[\"Star_rating\"].value_counts().plot(kind = 'bar',figsize=(12,6),title= \"Rating chart\")"
   ]
  },
  {
   "cell_type": "code",
   "execution_count": 15,
   "id": "c6d94a7e",
   "metadata": {},
   "outputs": [
    {
     "data": {
      "text/plain": [
       "<AxesSubplot:ylabel='Star_rating'>"
      ]
     },
     "execution_count": 15,
     "metadata": {},
     "output_type": "execute_result"
    },
    {
     "data": {
      "image/png": "[encoded data removed]",
      "text/plain": [
       "<Figure size 864x432 with 1 Axes>"
      ]
     },
     "metadata": {},
     "output_type": "display_data"
    }
   ],
   "source": [
    "df[\"Star_rating\"].value_counts().plot(kind = 'pie',figsize=(12,6),rotatelabels = 0.5, legend = True) "
   ]
  },
  {
   "cell_type": "code",
   "execution_count": 16,
   "id": "95cf4a9c",
   "metadata": {},
   "outputs": [
    {
     "data": {
      "text/plain": [
       "<AxesSubplot:title={'center':'Price'}, xlabel='[Star_rating]'>"
      ]
     },
     "execution_count": 16,
     "metadata": {},
     "output_type": "execute_result"
    },
    {
     "data": {
      "image/png": "[encoded data removed]",
      "text/plain": [
       "<Figure size 864x432 with 1 Axes>"
      ]
     },
     "metadata": {
      "needs_background": "light"
     },
     "output_type": "display_data"
    }
   ],
   "source": [
    "df[[\"Star_rating\",\"Price\"]].boxplot(by='Star_rating',figsize=(12,6))"
   ]
  },
  {
   "cell_type": "code",
   "execution_count": 17,
   "id": "28d33da5",
   "metadata": {},
   "outputs": [
    {
     "data": {
      "text/plain": [
       "<AxesSubplot:>"
      ]
     },
     "execution_count": 17,
     "metadata": {},
     "output_type": "execute_result"
    },
    {
     "data": {
      "image/png": "[encoded data removed]",
      "text/plain": [
       "<Figure size 864x432 with 1 Axes>"
      ]
     },
     "metadata": {
      "needs_background": "light"
     },
     "output_type": "display_data"
    }
   ],
   "source": [
    "df['Book_category'].value_counts().plot(kind = 'bar',figsize = (12,6))"
   ]
  },
  {
   "cell_type": "code",
   "execution_count": 26,
   "id": "623bf165",
   "metadata": {},
   "outputs": [
    {
     "data": {
      "text/html": [
       "<div>\n",
       "<style scoped>\n",
       "    .dataframe tbody tr th:only-of-type {\n",
       "        vertical-align: middle;\n",
       "    }\n",
       "\n",
       "    .dataframe tbody tr th {\n",
       "        vertical-align: top;\n",
       "    }\n",
       "\n",
       "    .dataframe thead th {\n",
       "        text-align: right;\n",
       "    }\n",
       "</style>\n",
       "<table border=\"1\" class=\"dataframe\">\n",
       "  <thead>\n",
       "    <tr style=\"text-align: right;\">\n",
       "      <th></th>\n",
       "      <th>Book_category</th>\n",
       "      <th>Star_rating</th>\n",
       "    </tr>\n",
       "  </thead>\n",
       "  <tbody>\n",
       "    <tr>\n",
       "      <th>0</th>\n",
       "      <td>Academic</td>\n",
       "      <td>2.000000</td>\n",
       "    </tr>\n",
       "    <tr>\n",
       "      <th>1</th>\n",
       "      <td>Add a comment</td>\n",
       "      <td>2.761194</td>\n",
       "    </tr>\n",
       "    <tr>\n",
       "      <th>2</th>\n",
       "      <td>Adult Fiction</td>\n",
       "      <td>5.000000</td>\n",
       "    </tr>\n",
       "    <tr>\n",
       "      <th>3</th>\n",
       "      <td>Art</td>\n",
       "      <td>3.625000</td>\n",
       "    </tr>\n",
       "    <tr>\n",
       "      <th>4</th>\n",
       "      <td>Autobiography</td>\n",
       "      <td>3.000000</td>\n",
       "    </tr>\n",
       "    <tr>\n",
       "      <th>5</th>\n",
       "      <td>Biography</td>\n",
       "      <td>2.200000</td>\n",
       "    </tr>\n",
       "    <tr>\n",
       "      <th>6</th>\n",
       "      <td>Business</td>\n",
       "      <td>2.916667</td>\n",
       "    </tr>\n",
       "    <tr>\n",
       "      <th>7</th>\n",
       "      <td>Childrens</td>\n",
       "      <td>2.620690</td>\n",
       "    </tr>\n",
       "    <tr>\n",
       "      <th>8</th>\n",
       "      <td>Christian</td>\n",
       "      <td>2.666667</td>\n",
       "    </tr>\n",
       "    <tr>\n",
       "      <th>9</th>\n",
       "      <td>Christian Fiction</td>\n",
       "      <td>4.166667</td>\n",
       "    </tr>\n",
       "    <tr>\n",
       "      <th>10</th>\n",
       "      <td>Classics</td>\n",
       "      <td>2.473684</td>\n",
       "    </tr>\n",
       "    <tr>\n",
       "      <th>11</th>\n",
       "      <td>Contemporary</td>\n",
       "      <td>2.333333</td>\n",
       "    </tr>\n",
       "    <tr>\n",
       "      <th>12</th>\n",
       "      <td>Crime</td>\n",
       "      <td>1.000000</td>\n",
       "    </tr>\n",
       "    <tr>\n",
       "      <th>13</th>\n",
       "      <td>Cultural</td>\n",
       "      <td>1.000000</td>\n",
       "    </tr>\n",
       "    <tr>\n",
       "      <th>14</th>\n",
       "      <td>Default</td>\n",
       "      <td>2.835526</td>\n",
       "    </tr>\n",
       "    <tr>\n",
       "      <th>15</th>\n",
       "      <td>Erotica</td>\n",
       "      <td>5.000000</td>\n",
       "    </tr>\n",
       "    <tr>\n",
       "      <th>16</th>\n",
       "      <td>Fantasy</td>\n",
       "      <td>3.083333</td>\n",
       "    </tr>\n",
       "    <tr>\n",
       "      <th>17</th>\n",
       "      <td>Fiction</td>\n",
       "      <td>3.184615</td>\n",
       "    </tr>\n",
       "    <tr>\n",
       "      <th>18</th>\n",
       "      <td>Food and Drink</td>\n",
       "      <td>2.900000</td>\n",
       "    </tr>\n",
       "    <tr>\n",
       "      <th>19</th>\n",
       "      <td>Health</td>\n",
       "      <td>3.750000</td>\n",
       "    </tr>\n",
       "    <tr>\n",
       "      <th>20</th>\n",
       "      <td>Historical</td>\n",
       "      <td>3.000000</td>\n",
       "    </tr>\n",
       "    <tr>\n",
       "      <th>21</th>\n",
       "      <td>Historical Fiction</td>\n",
       "      <td>3.230769</td>\n",
       "    </tr>\n",
       "    <tr>\n",
       "      <th>22</th>\n",
       "      <td>History</td>\n",
       "      <td>2.944444</td>\n",
       "    </tr>\n",
       "    <tr>\n",
       "      <th>23</th>\n",
       "      <td>Horror</td>\n",
       "      <td>2.705882</td>\n",
       "    </tr>\n",
       "    <tr>\n",
       "      <th>24</th>\n",
       "      <td>Humor</td>\n",
       "      <td>3.400000</td>\n",
       "    </tr>\n",
       "    <tr>\n",
       "      <th>25</th>\n",
       "      <td>Music</td>\n",
       "      <td>3.153846</td>\n",
       "    </tr>\n",
       "    <tr>\n",
       "      <th>26</th>\n",
       "      <td>Mystery</td>\n",
       "      <td>2.937500</td>\n",
       "    </tr>\n",
       "    <tr>\n",
       "      <th>27</th>\n",
       "      <td>New Adult</td>\n",
       "      <td>3.166667</td>\n",
       "    </tr>\n",
       "    <tr>\n",
       "      <th>28</th>\n",
       "      <td>Nonfiction</td>\n",
       "      <td>2.881818</td>\n",
       "    </tr>\n",
       "    <tr>\n",
       "      <th>29</th>\n",
       "      <td>Novels</td>\n",
       "      <td>5.000000</td>\n",
       "    </tr>\n",
       "    <tr>\n",
       "      <th>30</th>\n",
       "      <td>Paranormal</td>\n",
       "      <td>1.000000</td>\n",
       "    </tr>\n",
       "    <tr>\n",
       "      <th>31</th>\n",
       "      <td>Parenting</td>\n",
       "      <td>2.000000</td>\n",
       "    </tr>\n",
       "    <tr>\n",
       "      <th>32</th>\n",
       "      <td>Philosophy</td>\n",
       "      <td>2.363636</td>\n",
       "    </tr>\n",
       "    <tr>\n",
       "      <th>33</th>\n",
       "      <td>Poetry</td>\n",
       "      <td>3.526316</td>\n",
       "    </tr>\n",
       "    <tr>\n",
       "      <th>34</th>\n",
       "      <td>Politics</td>\n",
       "      <td>2.333333</td>\n",
       "    </tr>\n",
       "    <tr>\n",
       "      <th>35</th>\n",
       "      <td>Psychology</td>\n",
       "      <td>1.714286</td>\n",
       "    </tr>\n",
       "    <tr>\n",
       "      <th>36</th>\n",
       "      <td>Religion</td>\n",
       "      <td>3.142857</td>\n",
       "    </tr>\n",
       "    <tr>\n",
       "      <th>37</th>\n",
       "      <td>Romance</td>\n",
       "      <td>2.628571</td>\n",
       "    </tr>\n",
       "    <tr>\n",
       "      <th>38</th>\n",
       "      <td>Science</td>\n",
       "      <td>2.928571</td>\n",
       "    </tr>\n",
       "    <tr>\n",
       "      <th>39</th>\n",
       "      <td>Science Fiction</td>\n",
       "      <td>2.250000</td>\n",
       "    </tr>\n",
       "    <tr>\n",
       "      <th>40</th>\n",
       "      <td>Self Help</td>\n",
       "      <td>2.600000</td>\n",
       "    </tr>\n",
       "    <tr>\n",
       "      <th>41</th>\n",
       "      <td>Sequential Art</td>\n",
       "      <td>2.973333</td>\n",
       "    </tr>\n",
       "    <tr>\n",
       "      <th>42</th>\n",
       "      <td>Short Stories</td>\n",
       "      <td>1.000000</td>\n",
       "    </tr>\n",
       "    <tr>\n",
       "      <th>43</th>\n",
       "      <td>Spirituality</td>\n",
       "      <td>3.333333</td>\n",
       "    </tr>\n",
       "    <tr>\n",
       "      <th>44</th>\n",
       "      <td>Sports and Games</td>\n",
       "      <td>3.000000</td>\n",
       "    </tr>\n",
       "    <tr>\n",
       "      <th>45</th>\n",
       "      <td>Suspense</td>\n",
       "      <td>3.000000</td>\n",
       "    </tr>\n",
       "    <tr>\n",
       "      <th>46</th>\n",
       "      <td>Thriller</td>\n",
       "      <td>2.727273</td>\n",
       "    </tr>\n",
       "    <tr>\n",
       "      <th>47</th>\n",
       "      <td>Travel</td>\n",
       "      <td>2.727273</td>\n",
       "    </tr>\n",
       "    <tr>\n",
       "      <th>48</th>\n",
       "      <td>Womens Fiction</td>\n",
       "      <td>3.117647</td>\n",
       "    </tr>\n",
       "    <tr>\n",
       "      <th>49</th>\n",
       "      <td>Young Adult</td>\n",
       "      <td>3.296296</td>\n",
       "    </tr>\n",
       "  </tbody>\n",
       "</table>\n",
       "</div>"
      ],
      "text/plain": [
       "         Book_category  Star_rating\n",
       "0             Academic     2.000000\n",
       "1        Add a comment     2.761194\n",
       "2        Adult Fiction     5.000000\n",
       "3                  Art     3.625000\n",
       "4        Autobiography     3.000000\n",
       "5            Biography     2.200000\n",
       "6             Business     2.916667\n",
       "7            Childrens     2.620690\n",
       "8            Christian     2.666667\n",
       "9    Christian Fiction     4.166667\n",
       "10            Classics     2.473684\n",
       "11        Contemporary     2.333333\n",
       "12               Crime     1.000000\n",
       "13            Cultural     1.000000\n",
       "14             Default     2.835526\n",
       "15             Erotica     5.000000\n",
       "16             Fantasy     3.083333\n",
       "17             Fiction     3.184615\n",
       "18      Food and Drink     2.900000\n",
       "19              Health     3.750000\n",
       "20          Historical     3.000000\n",
       "21  Historical Fiction     3.230769\n",
       "22             History     2.944444\n",
       "23              Horror     2.705882\n",
       "24               Humor     3.400000\n",
       "25               Music     3.153846\n",
       "26             Mystery     2.937500\n",
       "27           New Adult     3.166667\n",
       "28          Nonfiction     2.881818\n",
       "29              Novels     5.000000\n",
       "30          Paranormal     1.000000\n",
       "31           Parenting     2.000000\n",
       "32          Philosophy     2.363636\n",
       "33              Poetry     3.526316\n",
       "34            Politics     2.333333\n",
       "35          Psychology     1.714286\n",
       "36            Religion     3.142857\n",
       "37             Romance     2.628571\n",
       "38             Science     2.928571\n",
       "39     Science Fiction     2.250000\n",
       "40           Self Help     2.600000\n",
       "41      Sequential Art     2.973333\n",
       "42       Short Stories     1.000000\n",
       "43        Spirituality     3.333333\n",
       "44    Sports and Games     3.000000\n",
       "45            Suspense     3.000000\n",
       "46            Thriller     2.727273\n",
       "47              Travel     2.727273\n",
       "48      Womens Fiction     3.117647\n",
       "49         Young Adult     3.296296"
      ]
     },
     "execution_count": 26,
     "metadata": {},
     "output_type": "execute_result"
    }
   ],
   "source": [
    "gerne=df.groupby(\"Book_category\")['Star_rating'].mean().reset_index()\n",
    "gerne\n"
   ]
  },
  {
   "cell_type": "code",
   "execution_count": 27,
   "id": "2c674071",
   "metadata": {},
   "outputs": [
    {
     "data": {
      "text/html": [
       "<div>\n",
       "<style scoped>\n",
       "    .dataframe tbody tr th:only-of-type {\n",
       "        vertical-align: middle;\n",
       "    }\n",
       "\n",
       "    .dataframe tbody tr th {\n",
       "        vertical-align: top;\n",
       "    }\n",
       "\n",
       "    .dataframe thead th {\n",
       "        text-align: right;\n",
       "    }\n",
       "</style>\n",
       "<table border=\"1\" class=\"dataframe\">\n",
       "  <thead>\n",
       "    <tr style=\"text-align: right;\">\n",
       "      <th></th>\n",
       "      <th>Book_category</th>\n",
       "      <th>Star_rating</th>\n",
       "    </tr>\n",
       "  </thead>\n",
       "  <tbody>\n",
       "    <tr>\n",
       "      <th>15</th>\n",
       "      <td>Erotica</td>\n",
       "      <td>5.000000</td>\n",
       "    </tr>\n",
       "    <tr>\n",
       "      <th>2</th>\n",
       "      <td>Adult Fiction</td>\n",
       "      <td>5.000000</td>\n",
       "    </tr>\n",
       "    <tr>\n",
       "      <th>29</th>\n",
       "      <td>Novels</td>\n",
       "      <td>5.000000</td>\n",
       "    </tr>\n",
       "    <tr>\n",
       "      <th>9</th>\n",
       "      <td>Christian Fiction</td>\n",
       "      <td>4.166667</td>\n",
       "    </tr>\n",
       "    <tr>\n",
       "      <th>19</th>\n",
       "      <td>Health</td>\n",
       "      <td>3.750000</td>\n",
       "    </tr>\n",
       "  </tbody>\n",
       "</table>\n",
       "</div>"
      ],
      "text/plain": [
       "        Book_category  Star_rating\n",
       "15            Erotica     5.000000\n",
       "2       Adult Fiction     5.000000\n",
       "29             Novels     5.000000\n",
       "9   Christian Fiction     4.166667\n",
       "19             Health     3.750000"
      ]
     },
     "execution_count": 27,
     "metadata": {},
     "output_type": "execute_result"
    }
   ],
   "source": [
    "gerne.sort_values(by='Star_rating',inplace = True,ascending = False)\n",
    "gerne.head()"
   ]
  },
  {
   "cell_type": "code",
   "execution_count": 29,
   "id": "68ee34d0",
   "metadata": {},
   "outputs": [],
   "source": [
    "gerne.reset_index(inplace=True)"
   ]
  },
  {
   "cell_type": "code",
   "execution_count": 30,
   "id": "ffd830c6",
   "metadata": {},
   "outputs": [
    {
     "data": {
      "text/html": [
       "<div>\n",
       "<style scoped>\n",
       "    .dataframe tbody tr th:only-of-type {\n",
       "        vertical-align: middle;\n",
       "    }\n",
       "\n",
       "    .dataframe tbody tr th {\n",
       "        vertical-align: top;\n",
       "    }\n",
       "\n",
       "    .dataframe thead th {\n",
       "        text-align: right;\n",
       "    }\n",
       "</style>\n",
       "<table border=\"1\" class=\"dataframe\">\n",
       "  <thead>\n",
       "    <tr style=\"text-align: right;\">\n",
       "      <th></th>\n",
       "      <th>index</th>\n",
       "      <th>Book_category</th>\n",
       "      <th>Star_rating</th>\n",
       "    </tr>\n",
       "  </thead>\n",
       "  <tbody>\n",
       "    <tr>\n",
       "      <th>0</th>\n",
       "      <td>15</td>\n",
       "      <td>Erotica</td>\n",
       "      <td>5.000000</td>\n",
       "    </tr>\n",
       "    <tr>\n",
       "      <th>1</th>\n",
       "      <td>2</td>\n",
       "      <td>Adult Fiction</td>\n",
       "      <td>5.000000</td>\n",
       "    </tr>\n",
       "    <tr>\n",
       "      <th>2</th>\n",
       "      <td>29</td>\n",
       "      <td>Novels</td>\n",
       "      <td>5.000000</td>\n",
       "    </tr>\n",
       "    <tr>\n",
       "      <th>3</th>\n",
       "      <td>9</td>\n",
       "      <td>Christian Fiction</td>\n",
       "      <td>4.166667</td>\n",
       "    </tr>\n",
       "    <tr>\n",
       "      <th>4</th>\n",
       "      <td>19</td>\n",
       "      <td>Health</td>\n",
       "      <td>3.750000</td>\n",
       "    </tr>\n",
       "  </tbody>\n",
       "</table>\n",
       "</div>"
      ],
      "text/plain": [
       "   index      Book_category  Star_rating\n",
       "0     15            Erotica     5.000000\n",
       "1      2      Adult Fiction     5.000000\n",
       "2     29             Novels     5.000000\n",
       "3      9  Christian Fiction     4.166667\n",
       "4     19             Health     3.750000"
      ]
     },
     "execution_count": 30,
     "metadata": {},
     "output_type": "execute_result"
    }
   ],
   "source": [
    "gerne.head()"
   ]
  },
  {
   "cell_type": "code",
   "execution_count": 32,
   "id": "7663d9e1",
   "metadata": {},
   "outputs": [],
   "source": [
    "gerne.drop(columns=\"index\",inplace=True)"
   ]
  },
  {
   "cell_type": "code",
   "execution_count": 42,
   "id": "06b46995",
   "metadata": {},
   "outputs": [
    {
     "data": {
      "text/plain": [
       "<AxesSubplot:xlabel='Book_category'>"
      ]
     },
     "execution_count": 42,
     "metadata": {},
     "output_type": "execute_result"
    },
    {
     "data": {
      "image/png": "[encoded data removed]",
      "text/plain": [
       "<Figure size 864x432 with 1 Axes>"
      ]
     },
     "metadata": {
      "needs_background": "light"
     },
     "output_type": "display_data"
    }
   ],
   "source": [
    "gerne.plot(kind = 'bar' , x = 'Book_category' , y = 'Star_rating',figsize = (12,6) , label = 'Mean of Rating')"
   ]
  },
  {
   "cell_type": "code",
   "execution_count": 55,
   "id": "ee76e170",
   "metadata": {},
   "outputs": [],
   "source": [
    "Price = df.groupby('Book_category')[\"Price\"].mean().reset_index()"
   ]
  },
  {
   "cell_type": "code",
   "execution_count": 56,
   "id": "15dec193",
   "metadata": {},
   "outputs": [],
   "source": [
    "Price.sort_values(by=\"Price\",ascending=False,inplace=True)\n",
    "Price.reset_index(inplace=True)\n",
    "Price.drop(columns=\"index\",inplace=True)"
   ]
  },
  {
   "cell_type": "code",
   "execution_count": 57,
   "id": "e9f90875",
   "metadata": {},
   "outputs": [
    {
     "data": {
      "text/html": [
       "<div>\n",
       "<style scoped>\n",
       "    .dataframe tbody tr th:only-of-type {\n",
       "        vertical-align: middle;\n",
       "    }\n",
       "\n",
       "    .dataframe tbody tr th {\n",
       "        vertical-align: top;\n",
       "    }\n",
       "\n",
       "    .dataframe thead th {\n",
       "        text-align: right;\n",
       "    }\n",
       "</style>\n",
       "<table border=\"1\" class=\"dataframe\">\n",
       "  <thead>\n",
       "    <tr style=\"text-align: right;\">\n",
       "      <th></th>\n",
       "      <th>Book_category</th>\n",
       "      <th>Price</th>\n",
       "    </tr>\n",
       "  </thead>\n",
       "  <tbody>\n",
       "    <tr>\n",
       "      <th>0</th>\n",
       "      <td>Suspense</td>\n",
       "      <td>58.330000</td>\n",
       "    </tr>\n",
       "    <tr>\n",
       "      <th>1</th>\n",
       "      <td>Novels</td>\n",
       "      <td>54.810000</td>\n",
       "    </tr>\n",
       "    <tr>\n",
       "      <th>2</th>\n",
       "      <td>Politics</td>\n",
       "      <td>53.613333</td>\n",
       "    </tr>\n",
       "    <tr>\n",
       "      <th>3</th>\n",
       "      <td>Health</td>\n",
       "      <td>51.452500</td>\n",
       "    </tr>\n",
       "    <tr>\n",
       "      <th>4</th>\n",
       "      <td>New Adult</td>\n",
       "      <td>46.383333</td>\n",
       "    </tr>\n",
       "  </tbody>\n",
       "</table>\n",
       "</div>"
      ],
      "text/plain": [
       "  Book_category      Price\n",
       "0      Suspense  58.330000\n",
       "1        Novels  54.810000\n",
       "2      Politics  53.613333\n",
       "3        Health  51.452500\n",
       "4     New Adult  46.383333"
      ]
     },
     "execution_count": 57,
     "metadata": {},
     "output_type": "execute_result"
    }
   ],
   "source": [
    "Price.head()"
   ]
  },
  {
   "cell_type": "code",
   "execution_count": 60,
   "id": "675a4ed5",
   "metadata": {},
   "outputs": [
    {
     "data": {
      "text/plain": [
       "<AxesSubplot:xlabel='Book_category'>"
      ]
     },
     "execution_count": 60,
     "metadata": {},
     "output_type": "execute_result"
    },
    {
     "data": {
      "image/png": "[encoded data removed]",
      "text/plain": [
       "<Figure size 864x432 with 1 Axes>"
      ]
     },
     "metadata": {
      "needs_background": "light"
     },
     "output_type": "display_data"
    }
   ],
   "source": [
    "Price.plot(kind=\"bar\",x=\"Book_category\",y=\"Price\",figsize=(12,6),label=\"Mean\")"
   ]
  },
  {
   "cell_type": "code",
   "execution_count": 61,
   "id": "9b4a592c",
   "metadata": {},
   "outputs": [],
   "source": [
    "genre = df.groupby('Book_category')"
   ]
  },
  {
   "cell_type": "code",
   "execution_count": null,
   "id": "78b3665d",
   "metadata": {},
   "outputs": [],
   "source": []
  },
  {
   "cell_type": "code",
   "execution_count": null,
   "id": "2030794e",
   "metadata": {},
   "outputs": [],
   "source": []
  }
 ],
 "metadata": {
  "kernelspec": {
   "display_name": "Python 3",
   "language": "python",
   "name": "python3"
  },
  "language_info": {
   "codemirror_mode": {
    "name": "ipython",
    "version": 3
   },
   "file_extension": ".py",
   "mimetype": "text/x-python",
   "name": "python",
   "nbconvert_exporter": "python",
   "pygments_lexer": "ipython3",
   "version": "3.8.8"
  }
 },
 "nbformat": 4,
 "nbformat_minor": 5
}
